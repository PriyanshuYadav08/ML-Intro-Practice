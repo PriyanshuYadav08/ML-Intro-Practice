{
 "cells": [
  {
   "cell_type": "code",
   "execution_count": 1,
   "id": "9fc2dc0b-6c75-40f1-86a7-c0c31649018f",
   "metadata": {},
   "outputs": [
    {
     "name": "stdout",
     "output_type": "stream",
     "text": [
      "hello world\n"
     ]
    }
   ],
   "source": [
    "print(\"hello world\")"
   ]
  },
  {
   "cell_type": "code",
   "execution_count": 2,
   "id": "8f332d6f-b75f-4cf3-be16-2efe62ba595b",
   "metadata": {},
   "outputs": [
    {
     "name": "stdout",
     "output_type": "stream",
     "text": [
      "1+2\n"
     ]
    }
   ],
   "source": [
    "print(\"1+2\")"
   ]
  },
  {
   "cell_type": "code",
   "execution_count": 3,
   "id": "3d46fa2f-4b12-4f5f-8449-502a8dcda9f3",
   "metadata": {},
   "outputs": [
    {
     "data": {
      "text/plain": [
       "6"
      ]
     },
     "execution_count": 3,
     "metadata": {},
     "output_type": "execute_result"
    }
   ],
   "source": [
    "1*6"
   ]
  },
  {
   "cell_type": "code",
   "execution_count": 4,
   "id": "0dd8b5bb-4d58-442a-a12b-110fbb75af9f",
   "metadata": {},
   "outputs": [
    {
     "name": "stdout",
     "output_type": "stream",
     "text": [
      "\f",
      "\n"
     ]
    }
   ],
   "source": [
    "clear"
   ]
  },
  {
   "cell_type": "markdown",
   "id": "27c4d6a9-7fad-451d-8c5a-995f1250e761",
   "metadata": {},
   "source": [
    "#Welcome"
   ]
  },
  {
   "cell_type": "markdown",
   "id": "2366a3b5-266b-4624-9298-1aa46f9c0c1f",
   "metadata": {},
   "source": [
    "Welcome"
   ]
  },
  {
   "cell_type": "code",
   "execution_count": null,
   "id": "6465544a-7275-4b55-aa3f-cb0d19d3c82e",
   "metadata": {},
   "outputs": [],
   "source": []
  }
 ],
 "metadata": {
  "kernelspec": {
   "display_name": "Python 3 (ipykernel)",
   "language": "python",
   "name": "python3"
  },
  "language_info": {
   "codemirror_mode": {
    "name": "ipython",
    "version": 3
   },
   "file_extension": ".py",
   "mimetype": "text/x-python",
   "name": "python",
   "nbconvert_exporter": "python",
   "pygments_lexer": "ipython3",
   "version": "3.13.1"
  }
 },
 "nbformat": 4,
 "nbformat_minor": 5
}
